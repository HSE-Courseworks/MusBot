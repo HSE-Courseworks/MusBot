{
 "cells": [
  {
   "cell_type": "code",
   "execution_count": 10,
   "id": "41f37bc9",
   "metadata": {},
   "outputs": [],
   "source": [
    "from pydub import AudioSegment"
   ]
  },
  {
   "cell_type": "code",
   "execution_count": 11,
   "id": "b02f7833",
   "metadata": {},
   "outputs": [],
   "source": [
    "input = \"convert.mp3\"\n",
    "output = \"test2.wav\""
   ]
  },
  {
   "cell_type": "code",
   "execution_count": 12,
   "id": "f0dcd4a1",
   "metadata": {},
   "outputs": [
    {
     "data": {
      "text/plain": [
       "<_io.BufferedRandom name='test2.wav'>"
      ]
     },
     "execution_count": 12,
     "metadata": {},
     "output_type": "execute_result"
    }
   ],
   "source": [
    "sound = AudioSegment.from_mp3(input)\n",
    "sound.set_channels(1)\n",
    "sound.export(output, format='wav')"
   ]
  },
  {
   "cell_type": "code",
   "execution_count": null,
   "id": "b145161a",
   "metadata": {},
   "outputs": [],
   "source": []
  }
 ],
 "metadata": {
  "kernelspec": {
   "display_name": "Python 3 (ipykernel)",
   "language": "python",
   "name": "python3"
  },
  "language_info": {
   "codemirror_mode": {
    "name": "ipython",
    "version": 3
   },
   "file_extension": ".py",
   "mimetype": "text/x-python",
   "name": "python",
   "nbconvert_exporter": "python",
   "pygments_lexer": "ipython3",
   "version": "3.10.0"
  }
 },
 "nbformat": 4,
 "nbformat_minor": 5
}
